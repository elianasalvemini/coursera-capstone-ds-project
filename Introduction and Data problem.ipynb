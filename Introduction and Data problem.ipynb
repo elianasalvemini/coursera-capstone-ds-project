{
 "cells": [
  {
   "cell_type": "markdown",
   "metadata": {},
   "source": [
    "# Introduction/Business Problem"
   ]
  },
  {
   "cell_type": "markdown",
   "metadata": {},
   "source": [
    "The problem I would like to analyze arises from a personal need: where should I choose to live?\n",
    "It is the typical problem that a person who has to be relocated for job has to face: in which part of the city should I choose to live? In the next month I have to move for job in a different city from the one I live now and I will deal with the choice of where to take home, in which area of the city. Of course one could see in a place not too far from the office, but this is not enough. I want to explore the neighborhood of Milan city because I want to find an area where I can practice my hobbies. In particular since I am a swimmer and I love to practice sport in general, I want an area full of swimming pools, jyms, fitness club. A different person who love arts and exibition could want an area full of teathers or cinemas for example. \n",
    "Other people could like instead going and chilling out so an area full of pubs and clubs would be perfect for them. \n",
    "So my problem would be in general: find the better place where to live depending of the hobbies and interests of a person."
   ]
  },
  {
   "cell_type": "markdown",
   "metadata": {},
   "source": [
    "# The Data"
   ]
  },
  {
   "cell_type": "markdown",
   "metadata": {},
   "source": [
    "The data I want to use are the geografical coordinate of Milan city, retrieved from the geocoder or geolocator API. \n",
    "In particular I know that the postal codes of Milan city go from 20121 to 201612, so I will get the geografical coordinates of these postalcodes.\n",
    "Next, I will explore with the Forsquare API the different venues of these areas paying particulat attention to the gym, swimming pools, fitness centers and at the end using K-means to cluster the data and choose the cluster that better fits to my hobbies. "
   ]
  }
 ],
 "metadata": {
  "kernelspec": {
   "display_name": "Python 3",
   "language": "python",
   "name": "python3"
  },
  "language_info": {
   "codemirror_mode": {
    "name": "ipython",
    "version": 3
   },
   "file_extension": ".py",
   "mimetype": "text/x-python",
   "name": "python",
   "nbconvert_exporter": "python",
   "pygments_lexer": "ipython3",
   "version": "3.6.4"
  }
 },
 "nbformat": 4,
 "nbformat_minor": 2
}
